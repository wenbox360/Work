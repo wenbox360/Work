{
 "cells": [
  {
   "cell_type": "markdown",
   "id": "f6416e64",
   "metadata": {},
   "source": [
    "# Aes c\n",
    "\n",
    " In this lesson you will learn how to use the C library\n",
    "BearSSL to encrypt and decrypt with the AES algorithm. This\n",
    "lesson requires an understanding of C IO, byte manipulation,\n",
    "and endianess. Good luck!\n"
   ]
  },
  {
   "cell_type": "markdown",
   "id": "713d8598",
   "metadata": {},
   "source": [
    "### Challenge Name: aes_decrypt (/embsec/aes_c/aes_decrypt)\n",
    "\n",
    "\n",
    "    The host tool is sending you an encrypted messaged. The message \n",
    "    is in the following format:\n",
    "       \n",
    "    [ 0x10 ] [      0x2      ] [ variable...]\n",
    "    ----------------------------------------\n",
    "    |  IV   | Ciphertext Size | Ciphertext |\n",
    "    ----------------------------------------\n",
    "    \n",
    "    Write C code to perform the following sequence. A C file has been provided for you,\n",
    "    called 'aes_decrypt.c', which includes beaverssl for your crypto functions!\n",
    "    \n",
    "    1. Use the AES key defined in the C file\n",
    "    2. Read the 16 byte initialization vector (IV) from the serial device on UART2\n",
    "    3. Read the ciphertext size (formatted as a little-endian short) from the serial device on UART2\n",
    "    4. Read the ciphertext from the serial device on UART2\n",
    "    5. Decrypt the ciphertext using 128-bit AES in CBC mode\n",
    "\n",
    "    The flag will be in this decrypted text! Send it over UART2, terminated with a newline.\n",
    "    HINT: use strstr to find the 'embsec...' stem of the flag!\n",
    "\n",
    "\n"
   ]
  },
  {
   "cell_type": "code",
   "execution_count": null,
   "id": "fae3dfc5",
   "metadata": {},
   "outputs": [],
   "source": [
    "\n",
    "subprocess.check_output([f'gcc  -I../../lib/uart -I../../lib/stellaris/bearssl -I../../lib/BearSSL/inc {name}.c ../../lib/stellaris/bearssl/beaverssl.c ../../lib/uart/uart_linux.c -o {name} ../../lib/BearSSL/build/libbearssl.a'], shell=True)\n",
    "stdout, stdin = embsec.grade_c(f'./{name}', f'/embsec/aes_c/{name}')\n",
    "\n",
    "return extract_flag(stdin)\n"
   ]
  },
  {
   "cell_type": "markdown",
   "id": "ccef5293",
   "metadata": {},
   "source": [
    "### Challenge Name: aes_encrypted_echo (/embsec/aes_c/aes_encrypted_echo)\n",
    "\n",
    "\n",
    "    The host tool is sending you an encrypted message. Decrypt\n",
    "    the message and send it back encrypted with a different IV. The \n",
    "    message needs to be formatted as follows:\n",
    "    \n",
    "    [ 0x10 ] [      0x2      ] [ variable...]\n",
    "    ----------------------------------------\n",
    "    |  IV   | Ciphertext Size | Ciphertext |\n",
    "    ----------------------------------------\n",
    "    \n",
    "    1. Use the AES key KEY in the starting C file\n",
    "    2. Read the 16 byte initialization vector (IV) from the serial device on UART2\n",
    "    3. Read the ciphertext size (formatted as a little-endian short) from the serial device\n",
    "    4. Read the ciphertext from the serial device\n",
    "    5. Decrypt the ciphertext using 128-bit AES in CBC mode\n",
    "    6. Send the new IV NEW_IV to the serial device\n",
    "    7. Re-encrypt the plaintext with the same key but a new IV\n",
    "    8. Send the ciphertext size (formatted as a little-endian short) to the serial device\n",
    "    9. Send the ciphertext to the serial device\n",
    "    10. Read the response\n",
    "\n",
    "\n"
   ]
  },
  {
   "cell_type": "code",
   "execution_count": null,
   "id": "33aa9ad1",
   "metadata": {},
   "outputs": [],
   "source": [
    "import embsec\n",
    "import subprocess\n",
    "from core.util import extract_flag\n",
    "\n",
    "def aes_encrypted_echo():\n",
    "    subprocess.check_output([f'gcc -I../../lib/uart -I../../lib/stellaris/bearssl -I../../lib/BearSSL/inc aes_encrypted_echo.c ../../lib/stellaris/bearssl/beaverssl.c ../../lib/uart/uart_linux.c -o aes_encrypted_echo ../../lib/BearSSL/build/libbearssl.a'], shell=True)\n",
    "    stdout, stdin = embsec.grade_c(f'./aes_encrypted_echo', f'/embsec/aes_c/aes_encrypted_echo')\n",
    "    \n",
    "    return (extract_flag(stdout))\n",
    "    \n",
    "aes_encrypted_echo()\n",
    "\n"
   ]
  }
 ],
 "metadata": {},
 "nbformat": 4,
 "nbformat_minor": 5
}

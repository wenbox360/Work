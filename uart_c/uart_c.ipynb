{
 "cells": [
  {
   "cell_type": "markdown",
   "id": "510170cc",
   "metadata": {},
   "source": [
    "# Uart c\n",
    "\n",
    "\n",
    "In class we've talked about programming peripherals in embedded devices using\n",
    "their memory-mapped configuration and control registers. For the FLASH memory\n",
    "programming example, we followed a process of reading the FLASH section of the \n",
    "datasheetand, identifying what steps our code needs to perform, and determining\n",
    "which registers are needed at each step. For this lesson you will be\n",
    "re-implementing the UART driver we use in all the C challenges.\n",
    "\n",
    "Currently, the UART functions are calling an API designed specifically for our\n",
    "microcontroller, the Stellaris LM3S6965. Instead, you are asked to implement the\n",
    "same functionality using only the registers and no API calls. Make sure to read\n",
    "the datasheet and identify all the necessary steps for getting the UART\n",
    "peripheral to work correctly!\n",
    "\n",
    "The datasheet can be found here: https://www.ti.com/lit/ds/symlink/lm3s6965.pdf\n",
    "Check out the document starting at page 432.\n"
   ]
  },
  {
   "cell_type": "markdown",
   "id": "31569d48",
   "metadata": {},
   "source": [
    "### Challenge Name: uart_challenge (/embsec/uart_c/uart_challenge)\n",
    "\n",
    "\n",
    "You have been provided a starting C source file (`uart_challenge/uart.c`) for\n",
    "implementing the UART functions. Currently, the `uart_write_str`, `nl`, and\n",
    "`uart_write_hex` functions are implemented. There is also `UART0_IRQHandler`,\n",
    "but you don't need worry about this; we'll learn about it later this week!).\n",
    "Your task is to implement the `uart_init`, `uart_read`, and `uart_write`\n",
    "functions.\n",
    "\n",
    "This challenge will only check that you implemented the functions for the\n",
    "`UART2` channel (see the `#define UART2 2` line). However, if you have time and\n",
    "are in search of a challenge, you should try to make the three functions also\n",
    "perform the correct configuration if given the `UART1` channel. `UART0` is\n",
    "reserved for a special reset purpose and has different functionality.\n",
    "\n",
    "As we found in the FLASH example, the register definitions and bit fields can be\n",
    "found in `inc/lm3s6965.h` in the `lib/stellaris` folder. The easiest way to find\n",
    "the correct places in this large header file is to search for 'uart'. Read below\n",
    "for more specific instructions on what each function should do.\n",
    "\n",
    "**uart_init**: This function sets up the UART clocks and data format\n",
    "configuration. For our purposes, the data length should be 8 bits with no parity\n",
    "check. The baud rate can be set to a value of 0x0a.0x36 (first part is the\n",
    "integer component, second part is the fractional component). At the end of this\n",
    "function, UART should be enabled. Remember to implement this for UART2! The\n",
    "datasheet is your greatest ally in figuring out how to achieve this.\n",
    "\n",
    "**uart_read**: This function should return 8 bit value received by the UART2\n",
    "peripheral, and place a success value in the variable pointed to be `read`.\n",
    "There are two types of reads: blocking and non-blocking. For a blocking read,\n",
    "the function should wait until received data is available (there is a register\n",
    "that will tell you this!) and return the data along with `1` in the `read`\n",
    "variable. For a non-blocking read, the function should check if data is\n",
    "available. If available, return the received value and place `1` in the `read`\n",
    "variable. Otherwise, return `0` and place `0` in the `read` variable.\n",
    "\n",
    "**uart_write**: This function should perform a blocking write to the UART data\n",
    "output, where the value is taken from the `data` function argument. Since the\n",
    "function blocks, it should wait to transmit data until the UART is *not* busy.\n",
    "\n",
    "All of this functionality will be evaluated with the test routine in\n",
    "`uart_challenge/uart_challenge.c` . This routine is very similar to the\n",
    "`intro_c` challenge, where this time **you** wrote the UART driver code and the\n",
    "blocking/non-blocking functionality should be exercised.\n",
    "\n",
    "Please ask questions! Whether they be about the datasheet, what the register\n",
    "definitions are, how to use the C binary logic operators to create the right\n",
    "values; this is not a simple assignment. There is much to learn about embedded\n",
    "programming and peripheral control procedures! \n",
    "\n"
   ]
  },
  {
   "cell_type": "code",
   "execution_count": 1,
   "id": "06d180d9",
   "metadata": {},
   "outputs": [
    {
     "name": "stderr",
     "output_type": "stream",
     "text": [
      "uart.c: In function 'uart_read':\n",
      "uart.c:26:1: warning: control reaches end of non-void function [-Wreturn-type]\n",
      "   26 | }\n",
      "      | ^\n"
     ]
    },
    {
     "ename": "ConnectionRefusedError",
     "evalue": "[Errno 111] Connection refused",
     "output_type": "error",
     "traceback": [
      "\u001b[0;31m---------------------------------------------------------------------------\u001b[0m",
      "\u001b[0;31mConnectionRefusedError\u001b[0m                    Traceback (most recent call last)",
      "\u001b[0;32m/tmp/ipykernel_165/3377377989.py\u001b[0m in \u001b[0;36m<module>\u001b[0;34m\u001b[0m\n\u001b[1;32m      9\u001b[0m     \u001b[0;32mreturn\u001b[0m \u001b[0;34m(\u001b[0m\u001b[0mextract_flag\u001b[0m\u001b[0;34m(\u001b[0m\u001b[0mstdout\u001b[0m\u001b[0;34m)\u001b[0m\u001b[0;34m)\u001b[0m\u001b[0;34m\u001b[0m\u001b[0;34m\u001b[0m\u001b[0m\n\u001b[1;32m     10\u001b[0m \u001b[0;34m\u001b[0m\u001b[0m\n\u001b[0;32m---> 11\u001b[0;31m \u001b[0muart_challenge\u001b[0m\u001b[0;34m(\u001b[0m\u001b[0;34m)\u001b[0m\u001b[0;34m\u001b[0m\u001b[0;34m\u001b[0m\u001b[0m\n\u001b[0m\u001b[1;32m     12\u001b[0m \u001b[0;34m\u001b[0m\u001b[0m\n",
      "\u001b[0;32m/tmp/ipykernel_165/3377377989.py\u001b[0m in \u001b[0;36muart_challenge\u001b[0;34m()\u001b[0m\n\u001b[1;32m      5\u001b[0m \u001b[0;32mdef\u001b[0m \u001b[0muart_challenge\u001b[0m\u001b[0;34m(\u001b[0m\u001b[0;34m)\u001b[0m\u001b[0;34m:\u001b[0m\u001b[0;34m\u001b[0m\u001b[0;34m\u001b[0m\u001b[0m\n\u001b[1;32m      6\u001b[0m     \u001b[0msubprocess\u001b[0m\u001b[0;34m.\u001b[0m\u001b[0mcheck_output\u001b[0m\u001b[0;34m(\u001b[0m\u001b[0;34m[\u001b[0m\u001b[0;34mf'(cd uart_challenge && make CHALLENGE=uart_challenge)'\u001b[0m\u001b[0;34m]\u001b[0m\u001b[0;34m,\u001b[0m \u001b[0mshell\u001b[0m\u001b[0;34m=\u001b[0m\u001b[0;32mTrue\u001b[0m\u001b[0;34m)\u001b[0m\u001b[0;34m\u001b[0m\u001b[0;34m\u001b[0m\u001b[0m\n\u001b[0;32m----> 7\u001b[0;31m     \u001b[0mresp0\u001b[0m\u001b[0;34m,\u001b[0m \u001b[0mresp1\u001b[0m\u001b[0;34m,\u001b[0m \u001b[0mresp2\u001b[0m \u001b[0;34m=\u001b[0m \u001b[0membsec\u001b[0m\u001b[0;34m.\u001b[0m\u001b[0mgrade_emulated\u001b[0m\u001b[0;34m(\u001b[0m\u001b[0;34mf'./uart_challenge/gcc/main.bin'\u001b[0m\u001b[0;34m,\u001b[0m \u001b[0;34mf'/embsec/uart_c/uart_challenge'\u001b[0m\u001b[0;34m)\u001b[0m\u001b[0;34m\u001b[0m\u001b[0;34m\u001b[0m\u001b[0m\n\u001b[0m\u001b[1;32m      8\u001b[0m     \u001b[0mstdout\u001b[0m\u001b[0;34m,\u001b[0m \u001b[0mstdin\u001b[0m \u001b[0;34m=\u001b[0m \u001b[0mresp2\u001b[0m\u001b[0;34m\u001b[0m\u001b[0;34m\u001b[0m\u001b[0m\n\u001b[1;32m      9\u001b[0m     \u001b[0;32mreturn\u001b[0m \u001b[0;34m(\u001b[0m\u001b[0mextract_flag\u001b[0m\u001b[0;34m(\u001b[0m\u001b[0mstdout\u001b[0m\u001b[0;34m)\u001b[0m\u001b[0;34m)\u001b[0m\u001b[0;34m\u001b[0m\u001b[0;34m\u001b[0m\u001b[0m\n",
      "\u001b[0;32m/opt/conda/lib/python3.9/site-packages/core/graders.py\u001b[0m in \u001b[0;36mgrade_emulated\u001b[0;34m(binary_path, grader_path, debug)\u001b[0m\n\u001b[1;32m     29\u001b[0m \u001b[0;34m\u001b[0m\u001b[0m\n\u001b[1;32m     30\u001b[0m \u001b[0;32mdef\u001b[0m \u001b[0mgrade_emulated\u001b[0m\u001b[0;34m(\u001b[0m\u001b[0mbinary_path\u001b[0m\u001b[0;34m,\u001b[0m \u001b[0mgrader_path\u001b[0m\u001b[0;34m,\u001b[0m \u001b[0mdebug\u001b[0m\u001b[0;34m=\u001b[0m\u001b[0;32mFalse\u001b[0m\u001b[0;34m)\u001b[0m\u001b[0;34m:\u001b[0m\u001b[0;34m\u001b[0m\u001b[0;34m\u001b[0m\u001b[0m\n\u001b[0;32m---> 31\u001b[0;31m     \u001b[0;32mwith\u001b[0m \u001b[0mQemuSerial\u001b[0m\u001b[0;34m(\u001b[0m\u001b[0mbinary_path\u001b[0m\u001b[0;34m,\u001b[0m \u001b[0mdebug\u001b[0m\u001b[0;34m=\u001b[0m\u001b[0mdebug\u001b[0m\u001b[0;34m)\u001b[0m \u001b[0;32mas\u001b[0m \u001b[0mqserial\u001b[0m\u001b[0;34m:\u001b[0m\u001b[0;34m\u001b[0m\u001b[0;34m\u001b[0m\u001b[0m\n\u001b[0m\u001b[1;32m     32\u001b[0m         \u001b[0msolution_ser0\u001b[0m\u001b[0;34m,\u001b[0m \u001b[0msolution_ser1\u001b[0m\u001b[0;34m,\u001b[0m \u001b[0msolution_ser2\u001b[0m \u001b[0;34m=\u001b[0m \u001b[0mqserial\u001b[0m\u001b[0;34m.\u001b[0m\u001b[0mserial_devices\u001b[0m\u001b[0;34m\u001b[0m\u001b[0;34m\u001b[0m\u001b[0m\n\u001b[1;32m     33\u001b[0m         \u001b[0mgrader_ser0\u001b[0m\u001b[0;34m,\u001b[0m \u001b[0mgrader_ser1\u001b[0m\u001b[0;34m,\u001b[0m \u001b[0mgrader_ser2\u001b[0m \u001b[0;34m=\u001b[0m \u001b[0mChallengeSerial\u001b[0m\u001b[0;34m(\u001b[0m\u001b[0mgrader_path\u001b[0m \u001b[0;34m+\u001b[0m \u001b[0;34m'0'\u001b[0m\u001b[0;34m)\u001b[0m\u001b[0;34m,\u001b[0m \u001b[0mChallengeSerial\u001b[0m\u001b[0;34m(\u001b[0m\u001b[0mgrader_path\u001b[0m \u001b[0;34m+\u001b[0m \u001b[0;34m'1'\u001b[0m\u001b[0;34m)\u001b[0m\u001b[0;34m,\u001b[0m \u001b[0mChallengeSerial\u001b[0m\u001b[0;34m(\u001b[0m\u001b[0mgrader_path\u001b[0m \u001b[0;34m+\u001b[0m \u001b[0;34m'2'\u001b[0m\u001b[0;34m)\u001b[0m\u001b[0;34m\u001b[0m\u001b[0;34m\u001b[0m\u001b[0m\n",
      "\u001b[0;32m/opt/conda/lib/python3.9/site-packages/core/pseudo_serial.py\u001b[0m in \u001b[0;36m__init__\u001b[0;34m(self, binary_path, num_serial, debug)\u001b[0m\n\u001b[1;32m    307\u001b[0m         \u001b[0msubprocess\u001b[0m\u001b[0;34m.\u001b[0m\u001b[0mcall\u001b[0m\u001b[0;34m(\u001b[0m\u001b[0;34m[\u001b[0m\u001b[0;34m'pkill'\u001b[0m\u001b[0;34m,\u001b[0m \u001b[0;34m'qemu'\u001b[0m\u001b[0;34m]\u001b[0m\u001b[0;34m)\u001b[0m\u001b[0;34m\u001b[0m\u001b[0;34m\u001b[0m\u001b[0m\n\u001b[1;32m    308\u001b[0m         \u001b[0mself\u001b[0m\u001b[0;34m.\u001b[0m\u001b[0mp\u001b[0m \u001b[0;34m=\u001b[0m \u001b[0msubprocess\u001b[0m\u001b[0;34m.\u001b[0m\u001b[0mPopen\u001b[0m\u001b[0;34m(\u001b[0m\u001b[0mcmd\u001b[0m\u001b[0;34m)\u001b[0m\u001b[0;34m\u001b[0m\u001b[0;34m\u001b[0m\u001b[0m\n\u001b[0;32m--> 309\u001b[0;31m         \u001b[0mself\u001b[0m\u001b[0;34m.\u001b[0m\u001b[0mserial_devices\u001b[0m \u001b[0;34m=\u001b[0m \u001b[0;34m[\u001b[0m\u001b[0mSocketSerial\u001b[0m\u001b[0;34m(\u001b[0m\u001b[0mname\u001b[0m\u001b[0;34m,\u001b[0m \u001b[0mport\u001b[0m\u001b[0;34m)\u001b[0m \u001b[0;32mfor\u001b[0m \u001b[0mname\u001b[0m\u001b[0;34m,\u001b[0m \u001b[0mport\u001b[0m \u001b[0;32min\u001b[0m \u001b[0mports\u001b[0m\u001b[0;34m]\u001b[0m\u001b[0;34m\u001b[0m\u001b[0;34m\u001b[0m\u001b[0m\n\u001b[0m\u001b[1;32m    310\u001b[0m \u001b[0;34m\u001b[0m\u001b[0m\n\u001b[1;32m    311\u001b[0m         \u001b[0matexit\u001b[0m\u001b[0;34m.\u001b[0m\u001b[0mregister\u001b[0m\u001b[0;34m(\u001b[0m\u001b[0mself\u001b[0m\u001b[0;34m.\u001b[0m\u001b[0mcleanup\u001b[0m\u001b[0;34m)\u001b[0m\u001b[0;34m\u001b[0m\u001b[0;34m\u001b[0m\u001b[0m\n",
      "\u001b[0;32m/opt/conda/lib/python3.9/site-packages/core/pseudo_serial.py\u001b[0m in \u001b[0;36m<listcomp>\u001b[0;34m(.0)\u001b[0m\n\u001b[1;32m    307\u001b[0m         \u001b[0msubprocess\u001b[0m\u001b[0;34m.\u001b[0m\u001b[0mcall\u001b[0m\u001b[0;34m(\u001b[0m\u001b[0;34m[\u001b[0m\u001b[0;34m'pkill'\u001b[0m\u001b[0;34m,\u001b[0m \u001b[0;34m'qemu'\u001b[0m\u001b[0;34m]\u001b[0m\u001b[0;34m)\u001b[0m\u001b[0;34m\u001b[0m\u001b[0;34m\u001b[0m\u001b[0m\n\u001b[1;32m    308\u001b[0m         \u001b[0mself\u001b[0m\u001b[0;34m.\u001b[0m\u001b[0mp\u001b[0m \u001b[0;34m=\u001b[0m \u001b[0msubprocess\u001b[0m\u001b[0;34m.\u001b[0m\u001b[0mPopen\u001b[0m\u001b[0;34m(\u001b[0m\u001b[0mcmd\u001b[0m\u001b[0;34m)\u001b[0m\u001b[0;34m\u001b[0m\u001b[0;34m\u001b[0m\u001b[0m\n\u001b[0;32m--> 309\u001b[0;31m         \u001b[0mself\u001b[0m\u001b[0;34m.\u001b[0m\u001b[0mserial_devices\u001b[0m \u001b[0;34m=\u001b[0m \u001b[0;34m[\u001b[0m\u001b[0mSocketSerial\u001b[0m\u001b[0;34m(\u001b[0m\u001b[0mname\u001b[0m\u001b[0;34m,\u001b[0m \u001b[0mport\u001b[0m\u001b[0;34m)\u001b[0m \u001b[0;32mfor\u001b[0m \u001b[0mname\u001b[0m\u001b[0;34m,\u001b[0m \u001b[0mport\u001b[0m \u001b[0;32min\u001b[0m \u001b[0mports\u001b[0m\u001b[0;34m]\u001b[0m\u001b[0;34m\u001b[0m\u001b[0;34m\u001b[0m\u001b[0m\n\u001b[0m\u001b[1;32m    310\u001b[0m \u001b[0;34m\u001b[0m\u001b[0m\n\u001b[1;32m    311\u001b[0m         \u001b[0matexit\u001b[0m\u001b[0;34m.\u001b[0m\u001b[0mregister\u001b[0m\u001b[0;34m(\u001b[0m\u001b[0mself\u001b[0m\u001b[0;34m.\u001b[0m\u001b[0mcleanup\u001b[0m\u001b[0;34m)\u001b[0m\u001b[0;34m\u001b[0m\u001b[0;34m\u001b[0m\u001b[0m\n",
      "\u001b[0;32m/opt/conda/lib/python3.9/site-packages/core/pseudo_serial.py\u001b[0m in \u001b[0;36m__init__\u001b[0;34m(self, name, port, log)\u001b[0m\n\u001b[1;32m    209\u001b[0m         \u001b[0mself\u001b[0m\u001b[0;34m.\u001b[0m\u001b[0msocket_port\u001b[0m \u001b[0;34m=\u001b[0m \u001b[0mport\u001b[0m\u001b[0;34m\u001b[0m\u001b[0;34m\u001b[0m\u001b[0m\n\u001b[1;32m    210\u001b[0m         \u001b[0mself\u001b[0m\u001b[0;34m.\u001b[0m\u001b[0maddr\u001b[0m \u001b[0;34m=\u001b[0m \u001b[0;34m(\u001b[0m\u001b[0;34m'localhost'\u001b[0m\u001b[0;34m,\u001b[0m \u001b[0mport\u001b[0m\u001b[0;34m)\u001b[0m\u001b[0;34m\u001b[0m\u001b[0;34m\u001b[0m\u001b[0m\n\u001b[0;32m--> 211\u001b[0;31m         \u001b[0mself\u001b[0m\u001b[0;34m.\u001b[0m\u001b[0mconnect\u001b[0m\u001b[0;34m(\u001b[0m\u001b[0;34m)\u001b[0m\u001b[0;34m\u001b[0m\u001b[0;34m\u001b[0m\u001b[0m\n\u001b[0m\u001b[1;32m    212\u001b[0m \u001b[0;34m\u001b[0m\u001b[0m\n\u001b[1;32m    213\u001b[0m         \u001b[0mself\u001b[0m\u001b[0;34m.\u001b[0m\u001b[0mstdout\u001b[0m \u001b[0;34m=\u001b[0m \u001b[0mbytearray\u001b[0m\u001b[0;34m(\u001b[0m\u001b[0;34m)\u001b[0m\u001b[0;34m\u001b[0m\u001b[0;34m\u001b[0m\u001b[0m\n",
      "\u001b[0;32m/opt/conda/lib/python3.9/site-packages/core/pseudo_serial.py\u001b[0m in \u001b[0;36mconnect\u001b[0;34m(self, retries)\u001b[0m\n\u001b[1;32m    292\u001b[0m                 \u001b[0mretries\u001b[0m \u001b[0;34m-=\u001b[0m \u001b[0;36m1\u001b[0m\u001b[0;34m\u001b[0m\u001b[0;34m\u001b[0m\u001b[0m\n\u001b[1;32m    293\u001b[0m                 \u001b[0;32mif\u001b[0m \u001b[0mretries\u001b[0m \u001b[0;34m==\u001b[0m \u001b[0;36m0\u001b[0m\u001b[0;34m:\u001b[0m\u001b[0;34m\u001b[0m\u001b[0;34m\u001b[0m\u001b[0m\n\u001b[0;32m--> 294\u001b[0;31m                     \u001b[0;32mraise\u001b[0m \u001b[0me\u001b[0m\u001b[0;34m\u001b[0m\u001b[0;34m\u001b[0m\u001b[0m\n\u001b[0m\u001b[1;32m    295\u001b[0m \u001b[0;34m\u001b[0m\u001b[0m\n\u001b[1;32m    296\u001b[0m \u001b[0;34m\u001b[0m\u001b[0m\n",
      "\u001b[0;32m/opt/conda/lib/python3.9/site-packages/core/pseudo_serial.py\u001b[0m in \u001b[0;36mconnect\u001b[0;34m(self, retries)\u001b[0m\n\u001b[1;32m    287\u001b[0m                 \u001b[0mself\u001b[0m\u001b[0;34m.\u001b[0m\u001b[0ms\u001b[0m \u001b[0;34m=\u001b[0m \u001b[0msocket\u001b[0m\u001b[0;34m.\u001b[0m\u001b[0msocket\u001b[0m\u001b[0;34m(\u001b[0m\u001b[0msocket\u001b[0m\u001b[0;34m.\u001b[0m\u001b[0mAF_INET\u001b[0m\u001b[0;34m,\u001b[0m \u001b[0msocket\u001b[0m\u001b[0;34m.\u001b[0m\u001b[0mSOCK_STREAM\u001b[0m\u001b[0;34m)\u001b[0m\u001b[0;34m\u001b[0m\u001b[0;34m\u001b[0m\u001b[0m\n\u001b[1;32m    288\u001b[0m                 \u001b[0mtime\u001b[0m\u001b[0;34m.\u001b[0m\u001b[0msleep\u001b[0m\u001b[0;34m(\u001b[0m\u001b[0;36m.2\u001b[0m\u001b[0;34m)\u001b[0m\u001b[0;34m\u001b[0m\u001b[0;34m\u001b[0m\u001b[0m\n\u001b[0;32m--> 289\u001b[0;31m                 \u001b[0mself\u001b[0m\u001b[0;34m.\u001b[0m\u001b[0ms\u001b[0m\u001b[0;34m.\u001b[0m\u001b[0mconnect\u001b[0m\u001b[0;34m(\u001b[0m\u001b[0mself\u001b[0m\u001b[0;34m.\u001b[0m\u001b[0maddr\u001b[0m\u001b[0;34m)\u001b[0m\u001b[0;34m\u001b[0m\u001b[0;34m\u001b[0m\u001b[0m\n\u001b[0m\u001b[1;32m    290\u001b[0m                 \u001b[0;32mbreak\u001b[0m\u001b[0;34m\u001b[0m\u001b[0;34m\u001b[0m\u001b[0m\n\u001b[1;32m    291\u001b[0m             \u001b[0;32mexcept\u001b[0m \u001b[0mConnectionRefusedError\u001b[0m \u001b[0;32mas\u001b[0m \u001b[0me\u001b[0m\u001b[0;34m:\u001b[0m\u001b[0;34m\u001b[0m\u001b[0;34m\u001b[0m\u001b[0m\n",
      "\u001b[0;31mConnectionRefusedError\u001b[0m: [Errno 111] Connection refused"
     ]
    },
    {
     "name": "stdout",
     "output_type": "stream",
     "text": [
      "QEMU 5.1.0 monitor - type 'help' for more information\n",
      "(qemu) "
     ]
    },
    {
     "name": "stderr",
     "output_type": "stream",
     "text": [
      "qemu-system-arm: -serial tcp:0.0.0.0:13337,server: info: QEMU waiting for connection on: disconnected:tcp:0.0.0.0:13337,server\n"
     ]
    }
   ],
   "source": [
    "import embsec\n",
    "import subprocess\n",
    "from core.util import extract_flag\n",
    "\n",
    "def uart_challenge():\n",
    "    subprocess.check_output([f'(cd uart_challenge && make CHALLENGE=uart_challenge)'], shell=True)\n",
    "    resp0, resp1, resp2 = embsec.grade_emulated(f'./uart_challenge/gcc/main.bin', f'/embsec/uart_c/uart_challenge')\n",
    "    stdout, stdin = resp2\n",
    "    return (extract_flag(stdout))\n",
    "    \n",
    "uart_challenge()\n",
    "\n"
   ]
  },
  {
   "cell_type": "code",
   "execution_count": null,
   "id": "fe6acd37-6dc5-46ab-ab5a-f651367eb4b9",
   "metadata": {},
   "outputs": [],
   "source": []
  }
 ],
 "metadata": {
  "kernelspec": {
   "display_name": "Python 3 (ipykernel)",
   "language": "python",
   "name": "python3"
  },
  "language_info": {
   "codemirror_mode": {
    "name": "ipython",
    "version": 3
   },
   "file_extension": ".py",
   "mimetype": "text/x-python",
   "name": "python",
   "nbconvert_exporter": "python",
   "pygments_lexer": "ipython3",
   "version": "3.9.6"
  }
 },
 "nbformat": 4,
 "nbformat_minor": 5
}

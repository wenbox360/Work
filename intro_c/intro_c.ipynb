{
 "cells": [
  {
   "cell_type": "markdown",
   "id": "6ef9adc8",
   "metadata": {},
   "source": [
    "# Intro c\n",
    "\n",
    "In this lesson you will learn how to interact with the course system. This\n",
    "course is split up into a series of lessons each with specific learning goals.\n",
    "Each lesson contains a series of challenge for you to complete. The challenges\n",
    "will require you to learn from online resources such as https://docs.python.org/,\n",
    "https://en.cppreference.com/w/c/language, and, our favorite, https://stackoverflow.com/.\n",
    "\n",
    "After completing a given challenge, a flag will be awarded to you!\n"
   ]
  },
  {
   "cell_type": "markdown",
   "id": "747bf9c9",
   "metadata": {},
   "source": [
    "### Challenge Name: read_example (/embsec/intro_c/read_example)\n",
    "\n",
    "These introductory C challenges somewhat mirror the serial device you\n",
    "interacted with in the introductory Python challenges. In `read_example`,\n",
    "you waited for a full line to be received from the serial connection. In this\n",
    "C version, you will be reading in the flag string from the serial port byte-by-byte\n",
    "and sending back a full string to the host. If you had two serial ports, you\n",
    "could think of this as receiving the flag from one device, and sending it to\n",
    "the other!\n",
    "\n",
    "To complete this challenge, you will need to use the serial communication\n",
    "functions in `uart.c`. Remember to `#include` the UART header file\n",
    "(`uart.h`) in your solution. Pay attention to the `if` statements in those\n",
    "functions; you may have to do some setup at the beginning of your program.\n",
    "The C challenges work differently from the Python challenges. You have to write\n",
    "your own C source file, where the name is determined by the challenge (you can\n",
    "see the expected file name in the python window below following `f'gcc`).\n",
    "For this challenge, a skeleton program has been provided for you that\n",
    "implements the necessary `main` function. In future challenges, you will\n",
    "likely have to make the file yourself.\n",
    "\n",
    "To complete this challenge, your solution must complete the following steps:\n",
    "\n",
    "    1. Read newline-terminated flag string from the host, byte-by-byte\n",
    "    2. Send the full flag as a string back to the host\n",
    "\n",
    "Resources:\n",
    "\n",
    "<https://docs.python.org/3/library/struct.html>\n",
    "\n",
    "\n"
   ]
  },
  {
   "cell_type": "code",
   "execution_count": 1,
   "id": "b7c31a0e",
   "metadata": {},
   "outputs": [
    {
     "name": "stderr",
     "output_type": "stream",
     "text": [
      "read_example.c: In function 'main':\n",
      "read_example.c:11:5: warning: ISO C forbids nested functions [-Wpedantic]\n",
      "   11 |     char flag[64]\n",
      "      |     ^~~~\n",
      "read_example.c:12:5: error: expected '=', ',', ';', 'asm' or '__attribute__' before 'for'\n",
      "   12 |     for (int i = 0; i <64; i++){\n",
      "      |     ^~~\n",
      "read_example.c:13:9: error: 'flag' undeclared (first use in this function)\n",
      "   13 |         flag[i]=0;\n",
      "      |         ^~~~\n",
      "read_example.c:13:9: note: each undeclared identifier is reported only once for each function it appears in\n",
      "read_example.c:15:43: error: 'status' undeclared (first use in this function)\n",
      "   15 |     flag[0] = uart_read(UART2, BLOCKING, &status);\n",
      "      |                                           ^~~~~~\n",
      "read_example.c:23:5: error: expected expression before '}' token\n",
      "   23 |     }\n",
      "      |     ^\n",
      "read_example.c:24:8: warning: variable 'mybyte' set but not used [-Wunused-but-set-variable]\n",
      "   24 |   char mybyte;\n",
      "      |        ^~~~~~\n",
      "read_example.c:17:9: warning: variable 'i' set but not used [-Wunused-but-set-variable]\n",
      "   17 |     int i = 0;\n",
      "      |         ^\n",
      "read_example.c:10:9: warning: unused variable 'ret' [-Wunused-variable]\n",
      "   10 |     int ret;\n",
      "      |         ^~~\n",
      "make: *** [/home/jovyan/lib/stellaris/makedefs:182: gcc/read_example.o] Error 1\n"
     ]
    },
    {
     "ename": "CalledProcessError",
     "evalue": "Command '['(cd read_example && make CHALLENGE=read_example)']' returned non-zero exit status 2.",
     "output_type": "error",
     "traceback": [
      "\u001b[0;31m---------------------------------------------------------------------------\u001b[0m",
      "\u001b[0;31mCalledProcessError\u001b[0m                        Traceback (most recent call last)",
      "\u001b[0;32m/tmp/ipykernel_366/3986874700.py\u001b[0m in \u001b[0;36m<module>\u001b[0;34m\u001b[0m\n\u001b[1;32m      9\u001b[0m     \u001b[0;32mreturn\u001b[0m \u001b[0;34m(\u001b[0m\u001b[0mextract_flag\u001b[0m\u001b[0;34m(\u001b[0m\u001b[0mstdout\u001b[0m\u001b[0;34m)\u001b[0m\u001b[0;34m)\u001b[0m\u001b[0;34m\u001b[0m\u001b[0;34m\u001b[0m\u001b[0m\n\u001b[1;32m     10\u001b[0m \u001b[0;34m\u001b[0m\u001b[0m\n\u001b[0;32m---> 11\u001b[0;31m \u001b[0mread_example\u001b[0m\u001b[0;34m(\u001b[0m\u001b[0;34m)\u001b[0m\u001b[0;34m\u001b[0m\u001b[0;34m\u001b[0m\u001b[0m\n\u001b[0m\u001b[1;32m     12\u001b[0m \u001b[0;34m\u001b[0m\u001b[0m\n",
      "\u001b[0;32m/tmp/ipykernel_366/3986874700.py\u001b[0m in \u001b[0;36mread_example\u001b[0;34m()\u001b[0m\n\u001b[1;32m      4\u001b[0m \u001b[0;34m\u001b[0m\u001b[0m\n\u001b[1;32m      5\u001b[0m \u001b[0;32mdef\u001b[0m \u001b[0mread_example\u001b[0m\u001b[0;34m(\u001b[0m\u001b[0;34m)\u001b[0m\u001b[0;34m:\u001b[0m\u001b[0;34m\u001b[0m\u001b[0;34m\u001b[0m\u001b[0m\n\u001b[0;32m----> 6\u001b[0;31m     \u001b[0msubprocess\u001b[0m\u001b[0;34m.\u001b[0m\u001b[0mcheck_output\u001b[0m\u001b[0;34m(\u001b[0m\u001b[0;34m[\u001b[0m\u001b[0;34mf'(cd read_example && make CHALLENGE=read_example)'\u001b[0m\u001b[0;34m]\u001b[0m\u001b[0;34m,\u001b[0m \u001b[0mshell\u001b[0m\u001b[0;34m=\u001b[0m\u001b[0;32mTrue\u001b[0m\u001b[0;34m)\u001b[0m\u001b[0;34m\u001b[0m\u001b[0;34m\u001b[0m\u001b[0m\n\u001b[0m\u001b[1;32m      7\u001b[0m     \u001b[0mresp0\u001b[0m\u001b[0;34m,\u001b[0m \u001b[0mresp1\u001b[0m\u001b[0;34m,\u001b[0m \u001b[0mresp2\u001b[0m \u001b[0;34m=\u001b[0m \u001b[0membsec\u001b[0m\u001b[0;34m.\u001b[0m\u001b[0mgrade_emulated\u001b[0m\u001b[0;34m(\u001b[0m\u001b[0;34mf'./read_example/gcc/main.bin'\u001b[0m\u001b[0;34m,\u001b[0m \u001b[0;34mf'/embsec/intro_c/read_example'\u001b[0m\u001b[0;34m)\u001b[0m\u001b[0;34m\u001b[0m\u001b[0;34m\u001b[0m\u001b[0m\n\u001b[1;32m      8\u001b[0m     \u001b[0mstdout\u001b[0m\u001b[0;34m,\u001b[0m \u001b[0mstdin\u001b[0m \u001b[0;34m=\u001b[0m \u001b[0mresp2\u001b[0m\u001b[0;34m\u001b[0m\u001b[0;34m\u001b[0m\u001b[0m\n",
      "\u001b[0;32m/opt/conda/lib/python3.9/subprocess.py\u001b[0m in \u001b[0;36mcheck_output\u001b[0;34m(timeout, *popenargs, **kwargs)\u001b[0m\n\u001b[1;32m    422\u001b[0m         \u001b[0mkwargs\u001b[0m\u001b[0;34m[\u001b[0m\u001b[0;34m'input'\u001b[0m\u001b[0;34m]\u001b[0m \u001b[0;34m=\u001b[0m \u001b[0mempty\u001b[0m\u001b[0;34m\u001b[0m\u001b[0;34m\u001b[0m\u001b[0m\n\u001b[1;32m    423\u001b[0m \u001b[0;34m\u001b[0m\u001b[0m\n\u001b[0;32m--> 424\u001b[0;31m     return run(*popenargs, stdout=PIPE, timeout=timeout, check=True,\n\u001b[0m\u001b[1;32m    425\u001b[0m                **kwargs).stdout\n\u001b[1;32m    426\u001b[0m \u001b[0;34m\u001b[0m\u001b[0m\n",
      "\u001b[0;32m/opt/conda/lib/python3.9/subprocess.py\u001b[0m in \u001b[0;36mrun\u001b[0;34m(input, capture_output, timeout, check, *popenargs, **kwargs)\u001b[0m\n\u001b[1;32m    526\u001b[0m         \u001b[0mretcode\u001b[0m \u001b[0;34m=\u001b[0m \u001b[0mprocess\u001b[0m\u001b[0;34m.\u001b[0m\u001b[0mpoll\u001b[0m\u001b[0;34m(\u001b[0m\u001b[0;34m)\u001b[0m\u001b[0;34m\u001b[0m\u001b[0;34m\u001b[0m\u001b[0m\n\u001b[1;32m    527\u001b[0m         \u001b[0;32mif\u001b[0m \u001b[0mcheck\u001b[0m \u001b[0;32mand\u001b[0m \u001b[0mretcode\u001b[0m\u001b[0;34m:\u001b[0m\u001b[0;34m\u001b[0m\u001b[0;34m\u001b[0m\u001b[0m\n\u001b[0;32m--> 528\u001b[0;31m             raise CalledProcessError(retcode, process.args,\n\u001b[0m\u001b[1;32m    529\u001b[0m                                      output=stdout, stderr=stderr)\n\u001b[1;32m    530\u001b[0m     \u001b[0;32mreturn\u001b[0m \u001b[0mCompletedProcess\u001b[0m\u001b[0;34m(\u001b[0m\u001b[0mprocess\u001b[0m\u001b[0;34m.\u001b[0m\u001b[0margs\u001b[0m\u001b[0;34m,\u001b[0m \u001b[0mretcode\u001b[0m\u001b[0;34m,\u001b[0m \u001b[0mstdout\u001b[0m\u001b[0;34m,\u001b[0m \u001b[0mstderr\u001b[0m\u001b[0;34m)\u001b[0m\u001b[0;34m\u001b[0m\u001b[0;34m\u001b[0m\u001b[0m\n",
      "\u001b[0;31mCalledProcessError\u001b[0m: Command '['(cd read_example && make CHALLENGE=read_example)']' returned non-zero exit status 2."
     ]
    }
   ],
   "source": [
    "import embsec\n",
    "import subprocess\n",
    "from core.util import extract_flag\n",
    "\n",
    "def read_example():\n",
    "    subprocess.check_output([f'(cd read_example && make CHALLENGE=read_example)'], shell=True)\n",
    "    resp0, resp1, resp2 = embsec.grade_emulated(f'./read_example/gcc/main.bin', f'/embsec/intro_c/read_example')\n",
    "    stdout, stdin = resp2\n",
    "    return (extract_flag(stdout))\n",
    "    \n",
    "read_example()\n",
    "\n"
   ]
  },
  {
   "cell_type": "markdown",
   "id": "86cfef65",
   "metadata": {},
   "source": [
    "### Challenge Name: write_example (/embsec/intro_c/write_example)\n",
    "\n",
    "This challenge is similar to the previous one. The same setup applies to\n",
    "this one! The functionality to implement is listed below:\n",
    "\n",
    "    1. Write a newline-terminated string to the host\n",
    "    2. Read newline-terminated flag string from the host, byte-by-byte\n",
    "    3. Send the full flag as a string back to the host\n",
    "\n",
    "Resources:\n",
    "\n",
    "<https://docs.python.org/3/library/struct.html>\n",
    "\n",
    "\n"
   ]
  },
  {
   "cell_type": "code",
   "execution_count": null,
   "id": "7ec874e4",
   "metadata": {},
   "outputs": [],
   "source": [
    "import embsec\n",
    "import subprocess\n",
    "from core.util import extract_flag\n",
    "\n",
    "def write_example():\n",
    "    subprocess.check_output([f'(cd write_example && make CHALLENGE=write_example)'], shell=True)\n",
    "    resp0, resp1, resp2 = embsec.grade_emulated(f'./write_example/gcc/main.bin', f'/embsec/intro_c/write_example')\n",
    "    stdout, stdin = resp2\n",
    "    return (extract_flag(stdout))\n",
    "    \n",
    "write_example()\n",
    "\n"
   ]
  }
 ],
 "metadata": {
  "kernelspec": {
   "display_name": "Python 3 (ipykernel)",
   "language": "python",
   "name": "python3"
  },
  "language_info": {
   "codemirror_mode": {
    "name": "ipython",
    "version": 3
   },
   "file_extension": ".py",
   "mimetype": "text/x-python",
   "name": "python",
   "nbconvert_exporter": "python",
   "pygments_lexer": "ipython3",
   "version": "3.9.6"
  }
 },
 "nbformat": 4,
 "nbformat_minor": 5
}

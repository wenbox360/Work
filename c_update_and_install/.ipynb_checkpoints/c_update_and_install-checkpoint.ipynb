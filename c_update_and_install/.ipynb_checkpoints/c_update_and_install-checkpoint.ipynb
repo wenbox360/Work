{
 "cells": [
  {
   "cell_type": "markdown",
   "id": "a24a18d4",
   "metadata": {},
   "source": [
    "# C update and install\n",
    "\n",
    "\n",
    "In this lesson we will be writing the C code for the bootloader that will receive firmware updates from\n",
    "the update tool (which you wrote in `protect_and_update`!). You will need to implement the update functionality\n",
    "as well as the install functionality!\n"
   ]
  },
  {
   "cell_type": "markdown",
   "id": "8d3e2d68",
   "metadata": {},
   "source": [
    "### Challenge Name: c_update_short (/embsec/c_update_and_install/c_update_short)\n",
    "\n",
    "\n",
    "For this challenge you will implement a basic bootloader update routine for the design challenge.\n",
    "This routine will match the update tool which you wrote in a `protect_and_update`. For this impelementation you don't need\n",
    "to worry about validating or securing the bootloader. Here we will just focus on writing an 'insecure' bootloader.\n",
    "\n",
    "Some of the code has been written for you. Look for the 'TODOs' and to write the function that reads frames from\n",
    "the update tool and writes them to flash!\n",
    "\n",
    "You are familiar with the format of the binary blob, since you constructed in with fw_protect.\n",
    "The update tool will send frames of the following format:\n",
    "\n",
    "      [ 0x2 ]    [ variable ]\n",
    "    ----------------------------\n",
    "    frame size |   data... \n",
    "\n",
    "Process:\n",
    "\n",
    "1. Wait until you receive a 'U' on UART1\n",
    "2. Send a 'U' on UART1 to confirm\n",
    "3. Receive frames and write them to flash\n",
    "4. Stop when a zero-length frame is received\n",
    "\n",
    "The code you have been given has a function that will run to check your work. If you wrote the code\n",
    "correctly, you'll get a flag!\n",
    "\n",
    "In this challenge you will be send a *short* firmware, so you can quickly test your code (as the update\n",
    "process takes a while, and we want you to be able to get some fast feedback). The next challenge is the same\n",
    "as this one, but you will be sent a much longer firmware that will check your code for edge cases!\n",
    "\n",
    "\n"
   ]
  },
  {
   "cell_type": "code",
   "execution_count": null,
   "id": "b21f7db3",
   "metadata": {},
   "outputs": [],
   "source": [
    "import embsec\n",
    "import subprocess\n",
    "from core.util import extract_flag\n",
    "\n",
    "def c_update_short():\n",
    "    subprocess.check_output([f'(cd c_update_short && make CHALLENGE=c_update_short)'], shell=True)\n",
    "    resp0, resp1, resp2 = embsec.grade_emulated(f'./c_update_short/gcc/main.bin', f'/embsec/c_update_and_install/c_update_short')\n",
    "    stdout, stdin = resp2\n",
    "    return (extract_flag(stdout))\n",
    "    \n",
    "c_update_short()\n",
    "\n"
   ]
  },
  {
   "cell_type": "markdown",
   "id": "0652a345",
   "metadata": {},
   "source": [
    "### Challenge Name: c_update_long (/embsec/c_update_and_install/c_update_long)\n",
    "\n",
    "\n",
    "This challenge is exactly the same as `c_update_short`, but you will be sent a *much* larger firmware during\n",
    "the update process! This will test your ability to write across flash pages ... spooky!\n",
    "\n",
    "Copy in the C code you wrote in the previous challenge, and make edits as needed to fix any bugs you find!\n",
    "\n",
    "If the previous challenge works but this one does not, the issue is probably related to writing across pages!\n",
    "If you wrote the code correctly, you'll get a flag!\n",
    "\n"
   ]
  },
  {
   "cell_type": "code",
   "execution_count": null,
   "id": "f2515bfe",
   "metadata": {},
   "outputs": [],
   "source": [
    "import embsec\n",
    "import subprocess\n",
    "from core.util import extract_flag\n",
    "\n",
    "def c_update_long():\n",
    "    subprocess.check_output([f'(cd c_update_long && make CHALLENGE=c_update_long)'], shell=True)\n",
    "    resp0, resp1, resp2 = embsec.grade_emulated(f'./c_update_long/gcc/main.bin', f'/embsec/c_update_and_install/c_update_long')\n",
    "    stdout, stdin = resp2\n",
    "    return (extract_flag(stdout))\n",
    "    \n",
    "c_update_long()\n",
    "\n"
   ]
  }
 ],
 "metadata": {},
 "nbformat": 4,
 "nbformat_minor": 5
}

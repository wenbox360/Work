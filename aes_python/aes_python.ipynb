{
 "cells": [
  {
   "cell_type": "markdown",
   "id": "cd68816f",
   "metadata": {
    "tags": []
   },
   "source": [
    "# Aes python\n",
    "\n",
    " In this lesson you will learn how to use the Python library\n",
    "PyCryptodome to encrypt and decrypt with the AES algorithm. This\n",
    "lesson requires an understanding of Python IO, byte manipulation,\n",
    "and endianess. Good luck!\n"
   ]
  },
  {
   "cell_type": "markdown",
   "id": "3a4588d0",
   "metadata": {},
   "source": [
    "### Challenge Name: aes_decrypt (/embsec/aes_python/aes_decrypt)\n",
    "\n",
    "\n",
    "    The serial device is sending you a message encrypted with the key\n",
    "    stored in aeskeyfile.bin. The message is in the following format:\n",
    "       \n",
    "    [ 0x10 ] [      0x2      ] [ variable...]\n",
    "    ----------------------------------------\n",
    "    |  IV   | Ciphertext Size | Ciphertext |\n",
    "    ----------------------------------------\n",
    "    \n",
    "    1. Read the AES key from 'aeskeyfile0.bin'\n",
    "    2. Read the 16 byte initialization vector (IV) from the serial device\n",
    "    3. Read the ciphertext size (formatted as a little-endian short) from the serial device\n",
    "    4. Read the ciphertext from the serial device\n",
    "    5. Decrypt the ciphertext using 128-bit AES in CBC mode\n",
    "    \n",
    "Resources:\n",
    "\n",
    "<https://docs.python.org/3/library/struct.html>\n",
    "\n",
    "<https://pycryptodome.readthedocs.io/en/latest/src/cipher/aes.html>\n",
    "\n"
   ]
  },
  {
   "cell_type": "code",
   "execution_count": 3,
   "id": "0c4d28ed",
   "metadata": {},
   "outputs": [
    {
     "ename": "TypeError",
     "evalue": "'tuple' object cannot be interpreted as an integer",
     "output_type": "error",
     "traceback": [
      "\u001b[0;31m---------------------------------------------------------------------------\u001b[0m",
      "\u001b[0;31mTypeError\u001b[0m                                 Traceback (most recent call last)",
      "\u001b[0;32m/tmp/ipykernel_155/178319198.py\u001b[0m in \u001b[0;36m<module>\u001b[0;34m\u001b[0m\n\u001b[1;32m     18\u001b[0m \u001b[0;34m\u001b[0m\u001b[0m\n\u001b[1;32m     19\u001b[0m \u001b[0;34m\u001b[0m\u001b[0m\n\u001b[0;32m---> 20\u001b[0;31m \u001b[0maes_decrypt\u001b[0m\u001b[0;34m(\u001b[0m\u001b[0;34m)\u001b[0m\u001b[0;34m\u001b[0m\u001b[0;34m\u001b[0m\u001b[0m\n\u001b[0m",
      "\u001b[0;32m/tmp/ipykernel_155/178319198.py\u001b[0m in \u001b[0;36maes_decrypt\u001b[0;34m()\u001b[0m\n\u001b[1;32m     11\u001b[0m     \u001b[0miv\u001b[0m\u001b[0;34m=\u001b[0m\u001b[0mser\u001b[0m\u001b[0;34m.\u001b[0m\u001b[0mread\u001b[0m\u001b[0;34m(\u001b[0m\u001b[0;36m16\u001b[0m\u001b[0;34m)\u001b[0m\u001b[0;34m\u001b[0m\u001b[0;34m\u001b[0m\u001b[0m\n\u001b[1;32m     12\u001b[0m     \u001b[0msize\u001b[0m\u001b[0;34m=\u001b[0m\u001b[0mstruct\u001b[0m\u001b[0;34m.\u001b[0m\u001b[0munpack\u001b[0m\u001b[0;34m(\u001b[0m\u001b[0;34m'<h'\u001b[0m\u001b[0;34m,\u001b[0m\u001b[0mser\u001b[0m\u001b[0;34m.\u001b[0m\u001b[0mread\u001b[0m\u001b[0;34m(\u001b[0m\u001b[0;36m2\u001b[0m\u001b[0;34m)\u001b[0m\u001b[0;34m)\u001b[0m\u001b[0;34m\u001b[0m\u001b[0;34m\u001b[0m\u001b[0m\n\u001b[0;32m---> 13\u001b[0;31m     \u001b[0mciphertext\u001b[0m\u001b[0;34m=\u001b[0m\u001b[0mser\u001b[0m\u001b[0;34m.\u001b[0m\u001b[0mread\u001b[0m\u001b[0;34m(\u001b[0m\u001b[0msize\u001b[0m\u001b[0;34m)\u001b[0m\u001b[0;34m\u001b[0m\u001b[0;34m\u001b[0m\u001b[0m\n\u001b[0m\u001b[1;32m     14\u001b[0m     \u001b[0mcipher\u001b[0m \u001b[0;34m=\u001b[0m \u001b[0mAES\u001b[0m\u001b[0;34m.\u001b[0m\u001b[0mnew\u001b[0m\u001b[0;34m(\u001b[0m\u001b[0mkey\u001b[0m\u001b[0;34m,\u001b[0m \u001b[0mAES\u001b[0m\u001b[0;34m.\u001b[0m\u001b[0mMODE_CBC\u001b[0m\u001b[0;34m,\u001b[0m \u001b[0miv\u001b[0m\u001b[0;34m)\u001b[0m\u001b[0;34m\u001b[0m\u001b[0;34m\u001b[0m\u001b[0m\n\u001b[1;32m     15\u001b[0m     \u001b[0mpt\u001b[0m \u001b[0;34m=\u001b[0m \u001b[0munpad\u001b[0m\u001b[0;34m(\u001b[0m\u001b[0mcipher\u001b[0m\u001b[0;34m.\u001b[0m\u001b[0mdecrypt\u001b[0m\u001b[0;34m(\u001b[0m\u001b[0mciphertext\u001b[0m\u001b[0;34m)\u001b[0m\u001b[0;34m,\u001b[0m \u001b[0mAES\u001b[0m\u001b[0;34m.\u001b[0m\u001b[0mblock_size\u001b[0m\u001b[0;34m)\u001b[0m\u001b[0;34m\u001b[0m\u001b[0;34m\u001b[0m\u001b[0m\n",
      "\u001b[0;32m/opt/conda/lib/python3.9/site-packages/core/pseudo_serial.py\u001b[0m in \u001b[0;36mread\u001b[0;34m(self, size, timeout)\u001b[0m\n\u001b[1;32m    107\u001b[0m     \u001b[0;32mdef\u001b[0m \u001b[0mread\u001b[0m\u001b[0;34m(\u001b[0m\u001b[0mself\u001b[0m\u001b[0;34m,\u001b[0m \u001b[0msize\u001b[0m\u001b[0;34m=\u001b[0m\u001b[0;36m1\u001b[0m\u001b[0;34m,\u001b[0m \u001b[0mtimeout\u001b[0m\u001b[0;34m=\u001b[0m\u001b[0;32mNone\u001b[0m\u001b[0;34m)\u001b[0m\u001b[0;34m:\u001b[0m\u001b[0;34m\u001b[0m\u001b[0;34m\u001b[0m\u001b[0m\n\u001b[1;32m    108\u001b[0m         \u001b[0mread\u001b[0m \u001b[0;34m=\u001b[0m \u001b[0mbytearray\u001b[0m\u001b[0;34m(\u001b[0m\u001b[0;34m)\u001b[0m\u001b[0;34m\u001b[0m\u001b[0;34m\u001b[0m\u001b[0m\n\u001b[0;32m--> 109\u001b[0;31m         \u001b[0;32mfor\u001b[0m \u001b[0m_\u001b[0m \u001b[0;32min\u001b[0m \u001b[0mrange\u001b[0m\u001b[0;34m(\u001b[0m\u001b[0msize\u001b[0m\u001b[0;34m)\u001b[0m\u001b[0;34m:\u001b[0m\u001b[0;34m\u001b[0m\u001b[0;34m\u001b[0m\u001b[0m\n\u001b[0m\u001b[1;32m    110\u001b[0m             \u001b[0;32mtry\u001b[0m\u001b[0;34m:\u001b[0m\u001b[0;34m\u001b[0m\u001b[0;34m\u001b[0m\u001b[0m\n\u001b[1;32m    111\u001b[0m                 \u001b[0md\u001b[0m \u001b[0;34m=\u001b[0m \u001b[0mself\u001b[0m\u001b[0;34m.\u001b[0m\u001b[0m_inq\u001b[0m\u001b[0;34m.\u001b[0m\u001b[0mget\u001b[0m\u001b[0;34m(\u001b[0m\u001b[0mtimeout\u001b[0m\u001b[0;34m=\u001b[0m\u001b[0mtimeout\u001b[0m\u001b[0;34m)\u001b[0m\u001b[0;34m\u001b[0m\u001b[0;34m\u001b[0m\u001b[0m\n",
      "\u001b[0;31mTypeError\u001b[0m: 'tuple' object cannot be interpreted as an integer"
     ]
    }
   ],
   "source": [
    "from embsec import Serial\n",
    "import struct\n",
    "from Crypto.Cipher import AES\n",
    "from Crypto.Util.Padding import unpad\n",
    "\n",
    "def aes_decrypt():\n",
    "    ser = Serial(\"/embsec/aes_python/aes_decrypt\")\n",
    "    # Your code goes here!\n",
    "    fp=open(\"aeskeyfile0.bin\",\"rb\")\n",
    "    key=fp.read()\n",
    "    iv=ser.read(16)\n",
    "    size=struct.unpack('<h',ser.read(2))\n",
    "    ciphertext=ser.read(size)\n",
    "    cipher = AES.new(key, AES.MODE_CBC, iv)\n",
    "    pt = unpad(cipher.decrypt(ciphertext), AES.block_size)\n",
    "    return pt\n",
    "    \n",
    "    \n",
    "\n",
    "aes_decrypt()\n"
   ]
  },
  {
   "cell_type": "markdown",
   "id": "dfe94457",
   "metadata": {},
   "source": [
    "### Challenge Name: aes_encrypt_file (/embsec/aes_python/aes_encrypt_file)\n",
    "\n",
    "\n",
    "    You need to send an encrypted message to the serial device. Encrypt\n",
    "    the contents of 'plaintext.bin' with the key found in 'aeskeyfile.bin' \n",
    "    and a random IV. The message needs to be formatted as follows:\n",
    "    \n",
    "    [ 0x10 ] [      0x2      ] [ variable...]\n",
    "    ----------------------------------------\n",
    "    |  IV   | Ciphertext Size | Ciphertext |\n",
    "    ----------------------------------------\n",
    "\n",
    "    1. Read the AES key from 'aeskeyfile1.bin'\n",
    "    2. Encrypt the plaintext located in 'plaintext.bin'\n",
    "    3. Send the IV to the serial device\n",
    "    4. Send the ciphertext size (formatted as a little-endian short) to the serial device\n",
    "    5. Send the ciphertext to the serial device\n",
    "    6. Read the response\n",
    "\n",
    "Resources:\n",
    "\n",
    "<https://docs.python.org/3/library/struct.html>\n",
    "\n",
    "<https://pycryptodome.readthedocs.io/en/latest/src/cipher/aes.html>\n",
    "\n",
    "\n"
   ]
  },
  {
   "cell_type": "code",
   "execution_count": null,
   "id": "4077eb44",
   "metadata": {},
   "outputs": [],
   "source": [
    "from embsec import Serial\n",
    "from Crypto.Cipher import AES\n",
    "from Crypto.Util.Padding import pad\n",
    "from Crypto.Random import get_random_bytes\n",
    "\n",
    "\n",
    "def aes_encrypt_file():\n",
    "    ser = Serial(\"/embsec/aes_python/aes_encrypt_file\")\n",
    "    # Your code goes here!\n",
    "    fp=open(\"aeskeyfile1.bin\",\"rb\")\n",
    "\n",
    "    key=fp.read()\n",
    "    iv=\n",
    "    \n",
    "    cipher = AES.new(key, AES.MODE_CBC)\n",
    "    ct_bytes = cipher.encrypt(pad(data, AES.block_size))\n",
    "    \n",
    "    \n",
    "\n",
    "aes_encrypt_file()\n"
   ]
  },
  {
   "cell_type": "markdown",
   "id": "cb2f889e",
   "metadata": {},
   "source": [
    "### Challenge Name: aes_encrypted_echo (/embsec/aes_python/aes_encrypted_echo)\n",
    "\n",
    "\n",
    "    The serial device is sending you an encrypted message. Decrypt\n",
    "    the message and send it back encrypt with a different IV. The \n",
    "    message needs to be formatted as follows:\n",
    "    \n",
    "    [ 0x10 ] [      0x2      ] [ variable...]\n",
    "    ----------------------------------------\n",
    "    |  IV   | Ciphertext Size | Ciphertext |\n",
    "    ----------------------------------------\n",
    "    \n",
    "    1. Read the AES key from 'aeskeyfile2.bin'\n",
    "    2. Read the 16 byte initialization vector (IV) from the serial device\n",
    "    3. Read the ciphertext size (formatted as a little-endian short) from the serial device\n",
    "    4. Read the ciphertext from the serial device\n",
    "    5. Decrypt the ciphertext using 128-bit AES in CBC mode\n",
    "    2. Re-encrypt the plaintext with the same key but a new IV\n",
    "    3. Send the IV to the serial device\n",
    "    4. Send the ciphertext size (formatted as a little-endian short) to the serial device\n",
    "    5. Send the ciphertext to the serial device\n",
    "    6. Read the response\n",
    "\n",
    "\n"
   ]
  },
  {
   "cell_type": "code",
   "execution_count": null,
   "id": "93de8b97",
   "metadata": {},
   "outputs": [],
   "source": [
    "from embsec import Serial\n",
    "\n",
    "def aes_encrypted_echo():\n",
    "    ser = Serial(\"/embsec/aes_python/aes_encrypted_echo\")\n",
    "    # Your code goes here!\n",
    "\n",
    "aes_encrypted_echo()\n"
   ]
  }
 ],
 "metadata": {
  "kernelspec": {
   "display_name": "Python 3 (ipykernel)",
   "language": "python",
   "name": "python3"
  },
  "language_info": {
   "codemirror_mode": {
    "name": "ipython",
    "version": 3
   },
   "file_extension": ".py",
   "mimetype": "text/x-python",
   "name": "python",
   "nbconvert_exporter": "python",
   "pygments_lexer": "ipython3",
   "version": "3.9.6"
  }
 },
 "nbformat": 4,
 "nbformat_minor": 5
}

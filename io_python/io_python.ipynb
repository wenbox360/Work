{
 "cells": [
  {
   "cell_type": "markdown",
   "id": "c606483c",
   "metadata": {},
   "source": [
    "# Io python\n",
    "\n",
    "In this lesson you will learn about the IO functions of Python.\n",
    "This will enable you to read and write files as well as \n",
    "read and write to serial devices such as the secure bootloader \n",
    "you are designing during this course. A series of challenges\n",
    "follow which will require you to read Python documentation\n",
    "as well as other online resources. Good luck!"
   ]
  },
  {
   "cell_type": "markdown",
   "id": "b956a5dd",
   "metadata": {},
   "source": [
    "### Challenge Name: echo_int (/embsec/io_python/echo_int)\n",
    "\n",
    "\n",
    "    1. Read a big-endian short from the serial device\n",
    "    2. Increment the integer by 1\n",
    "    3. Send the integer as a big-endian short back to the serial device\n",
    "\n",
    "Resources:\n",
    "\n",
    "<https://en.wikipedia.org/wiki/Endianness>\n",
    "\n",
    "<https://en.wikipedia.org/wiki/Integer_%28computer_science%29>\n",
    "\n",
    "<https://docs.python.org/3/library/struct.html>\n",
    "\n",
    "\n"
   ]
  },
  {
   "cell_type": "code",
   "execution_count": 8,
   "id": "93ed07ec",
   "metadata": {
    "tags": []
   },
   "outputs": [
    {
     "ename": "NameError",
     "evalue": "name 'struct' is not defined",
     "output_type": "error",
     "traceback": [
      "\u001b[0;31m---------------------------------------------------------------------------\u001b[0m",
      "\u001b[0;31mNameError\u001b[0m                                 Traceback (most recent call last)",
      "\u001b[0;32m/tmp/ipykernel_55/1720269342.py\u001b[0m in \u001b[0;36m<module>\u001b[0;34m\u001b[0m\n\u001b[1;32m      9\u001b[0m \u001b[0;34m\u001b[0m\u001b[0m\n\u001b[1;32m     10\u001b[0m \u001b[0;34m\u001b[0m\u001b[0m\n\u001b[0;32m---> 11\u001b[0;31m \u001b[0mecho_int\u001b[0m\u001b[0;34m(\u001b[0m\u001b[0;34m)\u001b[0m\u001b[0;34m\u001b[0m\u001b[0;34m\u001b[0m\u001b[0m\n\u001b[0m",
      "\u001b[0;32m/tmp/ipykernel_55/1720269342.py\u001b[0m in \u001b[0;36mecho_int\u001b[0;34m()\u001b[0m\n\u001b[1;32m      4\u001b[0m     \u001b[0mser\u001b[0m \u001b[0;34m=\u001b[0m \u001b[0mSerial\u001b[0m\u001b[0;34m(\u001b[0m\u001b[0;34m\"/embsec/io_python/echo_int\"\u001b[0m\u001b[0;34m)\u001b[0m\u001b[0;34m\u001b[0m\u001b[0;34m\u001b[0m\u001b[0m\n\u001b[1;32m      5\u001b[0m     \u001b[0;31m# Your code goes here!\u001b[0m\u001b[0;34m\u001b[0m\u001b[0;34m\u001b[0m\u001b[0;34m\u001b[0m\u001b[0m\n\u001b[0;32m----> 6\u001b[0;31m     \u001b[0mans\u001b[0m \u001b[0;34m=\u001b[0m \u001b[0mstruct\u001b[0m\u001b[0;34m.\u001b[0m\u001b[0munpack\u001b[0m\u001b[0;34m(\u001b[0m\u001b[0;34m\">h\"\u001b[0m\u001b[0;34m,\u001b[0m\u001b[0mser\u001b[0m\u001b[0;34m.\u001b[0m\u001b[0mread\u001b[0m\u001b[0;34m(\u001b[0m\u001b[0;36m2\u001b[0m\u001b[0;34m)\u001b[0m\u001b[0;34m)\u001b[0m\u001b[0;34m[\u001b[0m\u001b[0;36m8\u001b[0m\u001b[0;34m]\u001b[0m \u001b[0;34m+\u001b[0m \u001b[0;36m1\u001b[0m\u001b[0;34m\u001b[0m\u001b[0;34m\u001b[0m\u001b[0m\n\u001b[0m\u001b[1;32m      7\u001b[0m     \u001b[0mser\u001b[0m\u001b[0;34m.\u001b[0m\u001b[0mwrite\u001b[0m\u001b[0;34m(\u001b[0m\u001b[0mstruct\u001b[0m\u001b[0;34m.\u001b[0m\u001b[0mpack\u001b[0m\u001b[0;34m(\u001b[0m\u001b[0;34m\">h\"\u001b[0m\u001b[0;34m,\u001b[0m\u001b[0mans\u001b[0m\u001b[0;34m)\u001b[0m\u001b[0;34m)\u001b[0m\u001b[0;34m\u001b[0m\u001b[0;34m\u001b[0m\u001b[0m\n\u001b[1;32m      8\u001b[0m     \u001b[0;32mreturn\u001b[0m \u001b[0mser\u001b[0m\u001b[0;34m.\u001b[0m\u001b[0mread_until\u001b[0m\u001b[0;34m(\u001b[0m\u001b[0;34m)\u001b[0m\u001b[0;34m\u001b[0m\u001b[0;34m\u001b[0m\u001b[0m\n",
      "\u001b[0;31mNameError\u001b[0m: name 'struct' is not defined"
     ]
    }
   ],
   "source": [
    "from embsec import Serial\n",
    "\n",
    "def echo_int():\n",
    "    ser = Serial(\"/embsec/io_python/echo_int\")\n",
    "    # Your code goes here!\n",
    "    ans = struct.unpack(\">h\",ser.read(2))[0] + 1\n",
    "    ser.write(struct.pack(\">h\",ans))\n",
    "    return ser.read_until()\n",
    "    \n",
    "\n",
    "echo_int()\n"
   ]
  },
  {
   "cell_type": "markdown",
   "id": "8e975386",
   "metadata": {},
   "source": [
    "### Challenge Name: send_file (/embsec/io_python/send_file)\n",
    "\n",
    "\n",
    "\n",
    "    1. Read 'file.bin' from your local system\n",
    "    2. Calculate the size\n",
    "    3. Send the size as a little-endian short\n",
    "    4. Send the file to serial device\n",
    "\n",
    "    The serial device expects a little-endian short indicating the size of the\n",
    "    incoming data and then size bytes of data. The format is represented below:\n",
    "    \n",
    "    [ 0x02 ]  [ variable ]\n",
    "    ---------------------\n",
    "    | Length |  Data... |\n",
    "    ---------------------\n",
    "\n",
    "Resources:\n",
    "\n",
    "<https://en.wikipedia.org/wiki/Endianness>\n",
    "\n",
    "<https://en.wikipedia.org/wiki/Integer_%28computer_science%29>\n",
    "\n",
    "<https://docs.python.org/3/library/struct.html>\n",
    "\n",
    "<https://docs.python.org/3/tutorial/inputoutput.html>\n",
    "\n"
   ]
  },
  {
   "cell_type": "code",
   "execution_count": 12,
   "id": "6f984257",
   "metadata": {},
   "outputs": [],
   "source": [
    "from embsec import Serial\n",
    "\n",
    "def send_file():\n",
    "    ser = Serial(\"/embsec/io_python/send_file\")\n",
    "    # Your code goes here!\n",
    "    f=open('file.bin', 'r',encoding=\"utf-8\")\n",
    "    f.read()\n",
    "    \n",
    "\n",
    "send_file()\n"
   ]
  },
  {
   "cell_type": "markdown",
   "id": "c30fc007",
   "metadata": {},
   "source": [
    "### Challenge Name: send_large_file (/embsec/io_python/send_large_file)\n",
    "\n",
    "\n",
    "    1. Read 'large_file.bin' from your local system\n",
    "    2. Send the data in frames to the serial device (frame format below)\n",
    "    3. Send zero-length frame to indicate end of transmission\n",
    "\n",
    "    The serial device expects that a frame begins with a little-endian short \n",
    "    indicating the size of the frame and then frame data. The maximum frame \n",
    "    size is 16 bytes. The frame format is represented below:\n",
    "    \n",
    "    [ 0x02 ]  [ up to 0xE bytes ]\n",
    "    ----------------------------\n",
    "    | Length |      Data...    |\n",
    "    ----------------------------\n",
    "    \n",
    "Resources:\n",
    "<https://en.wikipedia.org/wiki/Endianness>\n",
    "<https://en.wikipedia.org/wiki/Integer_%28computer_science%29>\n",
    "<https://docs.python.org/3/library/struct.html>\n",
    "<https://docs.python.org/3/tutorial/inputoutput.html>\n",
    "<https://pyserial.readthedocs.io/en/latest/shortintro.html>\n",
    "\n"
   ]
  },
  {
   "cell_type": "code",
   "execution_count": null,
   "id": "0b84336c",
   "metadata": {},
   "outputs": [],
   "source": [
    "from embsec import Serial\n",
    "\n",
    "def send_large_file():\n",
    "    ser = Serial(\"/embsec/io_python/send_large_file\")\n",
    "    # Your code goes here!\n",
    "\n",
    "send_large_file()\n"
   ]
  }
 ],
 "metadata": {
  "kernelspec": {
   "display_name": "Python 3 (ipykernel)",
   "language": "python",
   "name": "python3"
  },
  "language_info": {
   "codemirror_mode": {
    "name": "ipython",
    "version": 3
   },
   "file_extension": ".py",
   "mimetype": "text/x-python",
   "name": "python",
   "nbconvert_exporter": "python",
   "pygments_lexer": "ipython3",
   "version": "3.9.6"
  }
 },
 "nbformat": 4,
 "nbformat_minor": 5
}
